{
 "cells": [
  {
   "cell_type": "code",
   "execution_count": 9,
   "id": "192ea1a0",
   "metadata": {},
   "outputs": [],
   "source": [
    "#pip install ucimlrepo\n",
    "from ucimlrepo import fetch_ucirepo \n",
    "import numpy as np\n",
    "import pandas as pd\n",
    "\n",
    "np.random.seed(45)\n",
    "\n",
    "# fetch dataset \n",
    "acute_inflammations = fetch_ucirepo(id=184) \n",
    "  \n",
    "# data (as pandas dataframes) \n",
    "X = acute_inflammations.data.features \n",
    "y = acute_inflammations.data.targets \n",
    "\n",
    "data_combined = pd.concat([X, y], axis=1)\n",
    "\n",
    "def replace_values(df):\n",
    "    df = df.applymap(lambda x: str(x).replace(\",\", \".\"))\n",
    "    df = df.applymap(lambda x: str(x).replace(\"\\t\", \",\"))\n",
    "    df = df.applymap(lambda x: str(x).replace(\"yes\", \"1\"))\n",
    "    df = df.applymap(lambda x: str(x).replace(\"no\", \"0\"))\n",
    "    return df\n",
    "\n",
    "# Apply the replacement function to the DataFrame\n",
    "data_combined = replace_values(data_combined)\n",
    "\n",
    "# Write the modified DataFrame to a CSV file\n",
    "data_combined.to_csv(\"diagnosis.csv\", index=False)\n",
    "\n"
   ]
  },
  {
   "cell_type": "code",
   "execution_count": 2,
   "id": "b952190b",
   "metadata": {},
   "outputs": [
    {
     "data": {
      "text/plain": [
       "(Text(0.5, 0, 'x'), Text(0, 0.5, 'y'))"
      ]
     },
     "execution_count": 2,
     "metadata": {},
     "output_type": "execute_result"
    },
    {
     "data": {
      "image/png": "[encoded data removed]",
      "text/plain": [
       "<Figure size 432x288 with 1 Axes>"
      ]
     },
     "metadata": {
      "needs_background": "light"
     },
     "output_type": "display_data"
    }
   ],
   "source": [
    "import numpy as np\n",
    "from scipy import interpolate\n",
    "import matplotlib.pyplot as plt\n",
    "\n",
    "np.random.seed(42)\n",
    "\n",
    "x = 10*np.random.rand(15)\n",
    "y = x + 0.5 * np.random.rand(15)\n",
    "\n",
    "p = interpolate.lagrange(x[0:10], y[0:10])\n",
    "xp = np.linspace(0, 10, 100)\n",
    "yp = p(xp)\n",
    "\n",
    "plt.scatter(x[0:10], y[0:10], c = 'k')\n",
    "\n",
    "plt.scatter(x[0:15], y[0:15], c = 'k', marker='+')\n",
    "plt.plot(xp, yp, 'k:')\n",
    "plt.xlabel('x'), plt.ylabel('y')"
   ]
  },
  {
   "cell_type": "code",
   "execution_count": 39,
   "id": "cf25c961",
   "metadata": {},
   "outputs": [
    {
     "name": "stdout",
     "output_type": "stream",
     "text": [
      "[0. 0. 1. 0. 0. 1. 0. 1. 1. 0. 0. 1. 0. 1. 1. 1. 1. 0. 1. 1. 1. 1. 1. 0.\n",
      " 1. 0. 1. 0. 1. 0. 1. 1. 0. 1. 1. 1. 1. 1. 1. 0. 1. 0. 1. 1. 1. 0. 1. 1.\n",
      " 0. 0. 0. 0. 0. 0. 0. 0. 1. 1. 1. 0. 0. 0. 0. 1. 1. 0. 0. 0. 0. 0. 1. 0.\n",
      " 1. 1. 0. 0. 0. 1. 1. 0. 1. 0. 0. 0. 1. 1. 0. 0. 1. 0. 0. 0. 0. 0. 0. 0.]\n"
     ]
    }
   ],
   "source": [
    "import numpy as np\n",
    "fFloat = open(\"diagnosis.csv\", \"r\")\n",
    "header = fFloat.readline().rstrip('\\n')\n",
    "ColumnNames = header.split(',')\n",
    "dataset = np.loadtxt(fFloat, delimiter=\",\")\n",
    "X = dataset[:,1:6]\n",
    "Y = dataset[:,6]\n",
    "\n",
    "allData = np.arange(0, X.shape[0]) # how many rows\n",
    "\n",
    "# int(X.shape[0]*0.2) determines the number of samples to draw, which is 20% of the total number of rows in X.\n",
    "# ensures that the same index is not chosen more than once\n",
    "iTesting = np.random.choice(X.shape[0], int(X.shape[0]*0.2), replace=False)\n",
    "iTraining = np.delete(allData, iTesting)\n",
    "\n",
    "dataRecords = len(iTraining)\n",
    "\n",
    "XTraining = X[iTraining,:]\n",
    "YTraining = Y[iTraining] \n",
    "\n",
    "print(YTraining)\n",
    "\n",
    "\n",
    "## P(i|x) = P(x|i) * P(i) / (sum(P(x|j) * P(j)))\n",
    "## vector x belongs to class i\n",
    "\n",
    "## P(i|x) = mul(P(x_k|i) * P(i)) / (sum(mul(P(x_k|j)) * P(j)))"
   ]
  },
  {
   "cell_type": "code",
   "execution_count": 25,
   "id": "b1ff8abb",
   "metadata": {},
   "outputs": [
    {
     "data": {
      "image/png": "[encoded data removed]",
      "text/plain": [
       "<Figure size 432x288 with 1 Axes>"
      ]
     },
     "metadata": {
      "needs_background": "light"
     },
     "output_type": "display_data"
    },
    {
     "name": "stdout",
     "output_type": "stream",
     "text": [
      "\n",
      " 30 - healthy people\n",
      " 71 - one diagnosis\n",
      " 19 - both diagnosis\n",
      "\n"
     ]
    }
   ],
   "source": [
    "diag = np.sum(dataset[:,6:8], axis=1)\n",
    "plt.hist(diag, color='k')\n",
    "plt.show()\n",
    "print('\\n',np.sum(diag == 0), '- healthy people\\n', np.sum(diag == 1), '- one diagnosis\\n', np.sum(diag == 2), '- both diagnosis\\n')"
   ]
  },
  {
   "cell_type": "code",
   "execution_count": 47,
   "id": "2c5cc675",
   "metadata": {},
   "outputs": [
    {
     "name": "stdout",
     "output_type": "stream",
     "text": [
      "[[[0.44845361 0.08762887]\n",
      "  [0.09793814 0.43814433]\n",
      "  [0.3556701  0.18041237]\n",
      "  [0.44845361 0.08762887]\n",
      "  [0.3556701  0.18041237]]\n",
      "\n",
      " [[0.32474227 0.14948454]\n",
      "  [0.32474227 0.14948454]\n",
      "  [0.00515464 0.46907216]\n",
      "  [0.09793814 0.37628866]\n",
      "  [0.22164948 0.25257732]]]\n"
     ]
    }
   ],
   "source": [
    "import numpy as np\n",
    "PXI = np.zeros((2, XTraining.shape[1], 2))\n",
    "PI = np.zeros(2)\n",
    "for k in range(XTraining.shape[1]):\n",
    "    # a and b\n",
    "    # P(x_k) with P(x_k = yes | i = 1)\n",
    "    PXI[1, k, 1] = np.sum(np.logical_and(XTraining[:,k], YTraining))\n",
    "    # not a and b\n",
    "    # P(x_k) with P(x_k = no | i = 1)\n",
    "    PXI[1, k, 0] = np.sum(np.logical_and(np.logical_not(XTraining[:, k]), YTraining))\n",
    "    # a and not b\n",
    "    # P(x_k) with P(x_k = yes | i = 0)\n",
    "    PXI[0, k, 1] = np.sum(np.logical_and(XTraining[:,k], np.logical_not(YTraining)))\n",
    "    # not a and not b\n",
    "    # P(x_k) with P(x_k = no | i = 0)\n",
    "    PXI[0, k, 0] = np.sum(np.logical_not(np.logical_or(XTraining[:, k], YTraining)))\n",
    "\n",
    "PI[1] = sum(YTraining) # true bladder-inflammation\n",
    "PI[0] = dataRecords - PI[1] # false bladder-inflammation\n",
    "\n",
    "# probabilities\n",
    "PXI = (PXI + 0.5) / (dataRecords + 1)\n",
    "PI = PI / dataRecords\n"
   ]
  },
  {
   "cell_type": "code",
   "execution_count": 55,
   "id": "4461d259",
   "metadata": {},
   "outputs": [],
   "source": [
    "## a function that calculates the probability of belonging \n",
    "## to a class with a specific combination of characteristics\n",
    "\n",
    "def predictNaiveBayesNominal(x):\n",
    "    P = np.zeros_like(PI) # the dimension of PI\n",
    "    allofthem = np.arange(XTraining.shape[1])\n",
    "    for i in range(len(P)):\n",
    "        P[i] = np.prod(PXI[i, allofthem, x]) * PI[i]\n",
    "    denominator = np.sum(P)\n",
    "    P = P / denominator\n",
    "    choosenClass = np.argmax(P)\n",
    "    return choosenClass"
   ]
  },
  {
   "cell_type": "code",
   "execution_count": 61,
   "id": "8f5a7a42",
   "metadata": {},
   "outputs": [
    {
     "name": "stdout",
     "output_type": "stream",
     "text": [
      "23 cases out of 24 cases are correctly classified, 1 cases are wrong classified\n"
     ]
    }
   ],
   "source": [
    "XTesting = X[iTesting, :]\n",
    "YTesting = Y[iTesting]\n",
    "\n",
    "correct = np.zeros(2)\n",
    "incorrect = np.zeros(2)\n",
    "\n",
    "for i in range(XTesting.shape[0]):\n",
    "    pred_class = predictNaiveBayesNominal(XTesting[i, :].astype(int))\n",
    "    if pred_class == YTesting[i]:\n",
    "        correct[pred_class] = correct[pred_class] + 1\n",
    "    else:\n",
    "        incorrect[pred_class] = incorrect[pred_class] + 1\n",
    "\n",
    "correct_cases = sum(correct)\n",
    "total_cases = XTesting.shape[0]\n",
    "wrong_cases = sum(incorrect)\n",
    "\n",
    "print(\"%d cases out of %d cases are correctly classified, %d cases are wrong classified\" % (correct_cases, total_cases, wrong_cases))"
   ]
  },
  {
   "cell_type": "code",
   "execution_count": 64,
   "id": "c957b491",
   "metadata": {},
   "outputs": [],
   "source": [
    "import numpy as np\n",
    "\n",
    "class NaiveBayesNominal():\n",
    "    \n",
    "    def __init__(self, XTraining, YTraining, dataRecords):\n",
    "        self.XTraining = XTraining\n",
    "        self.YTraining = YTraining\n",
    "        self.PXI = np.zeros((2, XTraining.shape[1], 2))\n",
    "        self.PI = np.zeros(2)\n",
    "        self.dataRecords = dataRecords\n",
    "        self.training()\n",
    "    \n",
    "    def predictNaiveBayesNominal(self, x):\n",
    "        P = np.zeros_like(self.PI) # the dimension of PI\n",
    "        allofthem = np.arange(self.XTraining.shape[1])\n",
    "        \n",
    "        for i in range(len(P)):\n",
    "            P[i] = np.prod(self.PXI[i, allofthem, x]) * self.PI[i]\n",
    "        \n",
    "        denominator = np.sum(P)\n",
    "        P = P / denominator\n",
    "        choosenClass = np.argmax(P)\n",
    "        return choosenClass\n",
    "        \n",
    "    def training(self):\n",
    "        for k in range(XTraining.shape[1]):\n",
    "            # a and b\n",
    "            # P(x_k) with P(x_k = yes | i = 1)\n",
    "            self.PXI[1, k, 1] = np.sum(np.logical_and(self.XTraining[:,k], self.YTraining))\n",
    "            # not a and b\n",
    "            # P(x_k) with P(x_k = no | i = 1)\n",
    "            self.PXI[1, k, 0] = np.sum(np.logical_and(np.logical_not(self.XTraining[:, k]), self.YTraining))\n",
    "            # a and not b\n",
    "            # P(x_k) with P(x_k = yes | i = 0)\n",
    "            self.PXI[0, k, 1] = np.sum(np.logical_and(self.XTraining[:,k], np.logical_not(self.YTraining)))\n",
    "            # not a and not b\n",
    "            # P(x_k) with P(x_k = no | i = 0)\n",
    "            self.PXI[0, k, 0] = np.sum(np.logical_not(np.logical_or(self.XTraining[:, k], self.YTraining)))\n",
    "\n",
    "        self.PI[1] = sum(YTraining) # true bladder-inflammation\n",
    "        self.PI[0] = dataRecords - PI[1] # false bladder-inflammation\n",
    "\n",
    "        # probabilities\n",
    "        self.PXI = (self.PXI + 0.5) / (dataRecords + 1)\n",
    "        self.PI = PI / dataRecords"
   ]
  },
  {
   "cell_type": "code",
   "execution_count": 65,
   "id": "1e746b38",
   "metadata": {},
   "outputs": [
    {
     "name": "stdout",
     "output_type": "stream",
     "text": [
      "23 cases out of 24 cases are correctly classified, 1 cases are wrong classified\n"
     ]
    }
   ],
   "source": [
    "XTesting = X[iTesting, :]\n",
    "YTesting = Y[iTesting]\n",
    "\n",
    "correct = np.zeros(2)\n",
    "incorrect = np.zeros(2)\n",
    "\n",
    "naiveBayesNominal = NaiveBayesNominal(XTraining, YTraining, dataRecords)\n",
    "\n",
    "for i in range(XTesting.shape[0]):\n",
    "    pred_class = naiveBayesNominal.predictNaiveBayesNominal(XTesting[i, :].astype(int))\n",
    "    if pred_class == YTesting[i]:\n",
    "        correct[pred_class] = correct[pred_class] + 1\n",
    "    else:\n",
    "        incorrect[pred_class] = incorrect[pred_class] + 1\n",
    "\n",
    "correct_cases = sum(correct)\n",
    "total_cases = XTesting.shape[0]\n",
    "wrong_cases = sum(incorrect)\n",
    "\n",
    "print(\"%d cases out of %d cases are correctly classified, %d cases are wrong classified\" % (correct_cases, total_cases, wrong_cases))"
   ]
  }
 ],
 "metadata": {
  "kernelspec": {
   "display_name": "Python 3 (ipykernel)",
   "language": "python",
   "name": "python3"
  },
  "language_info": {
   "codemirror_mode": {
    "name": "ipython",
    "version": 3
   },
   "file_extension": ".py",
   "mimetype": "text/x-python",
   "name": "python",
   "nbconvert_exporter": "python",
   "pygments_lexer": "ipython3",
   "version": "3.9.12"
  }
 },
 "nbformat": 4,
 "nbformat_minor": 5
}
