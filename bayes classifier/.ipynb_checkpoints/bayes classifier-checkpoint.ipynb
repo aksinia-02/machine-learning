{
 "cells": [
  {
   "cell_type": "code",
   "execution_count": 38,
   "id": "192ea1a0",
   "metadata": {},
   "outputs": [],
   "source": [
    "#pip install ucimlrepo\n",
    "from ucimlrepo import fetch_ucirepo \n",
    "import numpy as np\n",
    "import pandas as pd\n",
    "\n",
    "np.random.seed(45)\n",
    "\n",
    "# fetch dataset \n",
    "acute_inflammations = fetch_ucirepo(id=184) \n",
    "  \n",
    "# data (as pandas dataframes) \n",
    "X = acute_inflammations.data.features \n",
    "y = acute_inflammations.data.targets \n",
    "\n",
    "data_combined = pd.concat([X, y], axis=1)\n",
    "\n",
    "def replace_values(df):\n",
    "    df = df.applymap(lambda x: str(x).replace(\",\", \".\"))\n",
    "    df = df.applymap(lambda x: str(x).replace(\"\\t\", \",\"))\n",
    "    df = df.applymap(lambda x: str(x).replace(\"yes\", \"1\"))\n",
    "    df = df.applymap(lambda x: str(x).replace(\"no\", \"0\"))\n",
    "    return df\n",
    "\n",
    "# Apply the replacement function to the DataFrame\n",
    "data_combined = replace_values(data_combined)\n",
    "\n",
    "# Write the modified DataFrame to a CSV file\n",
    "data_combined.to_csv(\"diagnosis.csv\", index=False)\n",
    "\n"
   ]
  },
  {
   "cell_type": "code",
   "execution_count": 17,
   "id": "bf33551f",
   "metadata": {},
   "outputs": [
    {
     "name": "stdout",
     "output_type": "stream",
     "text": [
      "Collecting ucimlrepoNote: you may need to restart the kernel to use updated packages.\n",
      "  Downloading ucimlrepo-0.0.7-py3-none-any.whl (8.0 kB)\n",
      "Requirement already satisfied: pandas>=1.0.0 in c:\\users\\aksinia\\anaconda3\\lib\\site-packages (from ucimlrepo) (1.4.2)\n",
      "Requirement already satisfied: certifi>=2020.12.5 in c:\\users\\aksinia\\anaconda3\\lib\\site-packages (from ucimlrepo) (2021.10.8)\n",
      "Requirement already satisfied: numpy>=1.18.5 in c:\\users\\aksinia\\anaconda3\\lib\\site-packages (from pandas>=1.0.0->ucimlrepo) (1.21.5)\n",
      "Requirement already satisfied: pytz>=2020.1 in c:\\users\\aksinia\\anaconda3\\lib\\site-packages (from pandas>=1.0.0->ucimlrepo) (2021.3)\n",
      "Requirement already satisfied: python-dateutil>=2.8.1 in c:\\users\\aksinia\\anaconda3\\lib\\site-packages (from pandas>=1.0.0->ucimlrepo) (2.8.2)\n",
      "Requirement already satisfied: six>=1.5 in c:\\users\\aksinia\\anaconda3\\lib\\site-packages (from python-dateutil>=2.8.1->pandas>=1.0.0->ucimlrepo) (1.16.0)\n",
      "Installing collected packages: ucimlrepo\n",
      "Successfully installed ucimlrepo-0.0.7\n",
      "\n"
     ]
    }
   ],
   "source": []
  },
  {
   "cell_type": "code",
   "execution_count": 46,
   "id": "b952190b",
   "metadata": {},
   "outputs": [
    {
     "data": {
      "text/plain": [
       "(Text(0.5, 0, 'x'), Text(0, 0.5, 'y'))"
      ]
     },
     "execution_count": 46,
     "metadata": {},
     "output_type": "execute_result"
    },
    {
     "data": {
      "image/png": "[encoded data removed]",
      "text/plain": [
       "<Figure size 432x288 with 1 Axes>"
      ]
     },
     "metadata": {
      "needs_background": "light"
     },
     "output_type": "display_data"
    }
   ],
   "source": [
    "import numpy as np\n",
    "from scipy import interpolate\n",
    "import matplotlib.pyplot as plt\n",
    "\n",
    "np.random.seed(42)\n",
    "\n",
    "x = 10*np.random.rand(15)\n",
    "y = x + 0.5 * np.random.rand(15)\n",
    "\n",
    "p = interpolate.lagrange(x[0:10], y[0:10])\n",
    "xp = np.linspace(0, 10, 100)\n",
    "yp = p(xp)\n",
    "\n",
    "plt.scatter(x[0:10], y[0:10], c = 'k')\n",
    "\n",
    "plt.scatter(x[0:15], y[0:15], c = 'k', marker='+')\n",
    "plt.plot(xp, yp, 'k:')\n",
    "plt.xlabel('x'), plt.ylabel('y')"
   ]
  },
  {
   "cell_type": "code",
   "execution_count": null,
   "id": "6d705761",
   "metadata": {},
   "outputs": [],
   "source": []
  },
  {
   "cell_type": "code",
   "execution_count": null,
   "id": "79b47f22",
   "metadata": {},
   "outputs": [],
   "source": []
  },
  {
   "cell_type": "code",
   "execution_count": null,
   "id": "41ef1fb5",
   "metadata": {},
   "outputs": [],
   "source": []
  },
  {
   "cell_type": "code",
   "execution_count": null,
   "id": "16288d25",
   "metadata": {},
   "outputs": [],
   "source": []
  },
  {
   "cell_type": "code",
   "execution_count": null,
   "id": "31cbbadb",
   "metadata": {},
   "outputs": [],
   "source": []
  },
  {
   "cell_type": "code",
   "execution_count": null,
   "id": "7ada0bd8",
   "metadata": {},
   "outputs": [],
   "source": []
  },
  {
   "cell_type": "code",
   "execution_count": null,
   "id": "5d3b1cf7",
   "metadata": {},
   "outputs": [],
   "source": []
  },
  {
   "cell_type": "code",
   "execution_count": null,
   "id": "4877e92f",
   "metadata": {},
   "outputs": [],
   "source": []
  },
  {
   "cell_type": "code",
   "execution_count": null,
   "id": "fa5d193b",
   "metadata": {},
   "outputs": [],
   "source": []
  },
  {
   "cell_type": "code",
   "execution_count": null,
   "id": "5b8ed0ba",
   "metadata": {},
   "outputs": [],
   "source": []
  },
  {
   "cell_type": "code",
   "execution_count": null,
   "id": "c552c9a1",
   "metadata": {},
   "outputs": [],
   "source": []
  },
  {
   "cell_type": "code",
   "execution_count": null,
   "id": "ea757652",
   "metadata": {},
   "outputs": [],
   "source": []
  },
  {
   "cell_type": "code",
   "execution_count": null,
   "id": "79a2bdd8",
   "metadata": {},
   "outputs": [],
   "source": []
  },
  {
   "cell_type": "code",
   "execution_count": null,
   "id": "cf25c961",
   "metadata": {},
   "outputs": [],
   "source": []
  }
 ],
 "metadata": {
  "kernelspec": {
   "display_name": "Python 3 (ipykernel)",
   "language": "python",
   "name": "python3"
  },
  "language_info": {
   "codemirror_mode": {
    "name": "ipython",
    "version": 3
   },
   "file_extension": ".py",
   "mimetype": "text/x-python",
   "name": "python",
   "nbconvert_exporter": "python",
   "pygments_lexer": "ipython3",
   "version": "3.9.12"
  }
 },
 "nbformat": 4,
 "nbformat_minor": 5
}
